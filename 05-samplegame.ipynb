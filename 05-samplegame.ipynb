{
 "cells": [
  {
   "cell_type": "markdown",
   "metadata": {},
   "source": [
    "# The sample guessing game\n",
    "In this game, we analyze 6 files, `sample[0-6].root` that are each a small 500k event sample of a CMS NanoAOD dataset.  All generator-level branches have been removed.  Your task is to figure out which file came from which dataset.  To make it a bit easier, here are the 6 possible datasets:\n",
    "\n",
    "   * `DY2JetsToLL_M-50_TuneCP5_13TeV-madgraphMLM-pythia8`, producing $Z(\\to \\ell\\ell)+2j$ events via QCD processes;\n",
    "   * `EWKZ2Jets_ZToLL_M-50_TuneCP5_PSweights_13TeV-madgraph-pythia8`, producing $Z(\\to \\ell\\ell)+2j$ events via EW processes (i.e. primarily vector boson fusion);\n",
    "   * `GluGluHToWWTo2L2Nu_M125_13TeV_powheg2_JHUGenV714_pythia8`, producing Higgs boson events through gluon fusion, where the Higgs boson decays via $H\\to WW^{*}\\to 2\\ell2\\nu$;\n",
    "   * `GluGluHToZZTo2L2Q_M125_13TeV_powheg2_JHUGenV7011_pythia8`, producing Higgs boson events through gluon fusion, where the Higgs boson decays via $H\\to ZZ^{*}\\to 2\\ell2q$;\n",
    "   * `TTTo2L2Nu_TuneCP5_13TeV-powheg-pythia8`, producing di-top events, where both top quarks must decay leptonically; and\n",
    "   * `WWTo2L2Nu_NNPDF31_TuneCP5_13TeV-powheg-pythia8`, producing WW diboson events, where both W bosons decay leptonically $W\\to \\ell\\nu$.\n",
    "   \n",
    "In all cases, the lepton can be any flavor, $\\ell\\in\\{e,\\mu,\\tau\\}$.  All 6 datasets were produced with the `RunIIAutumn18NanoAODv4-Nano14Dec2018_102X_upgrade2018_realistic_v16-v1` conditions tag."
   ]
  },
  {
   "cell_type": "code",
   "execution_count": 1,
   "metadata": {},
   "outputs": [],
   "source": [
    "import numpy as np\n",
    "%matplotlib inline\n",
    "import matplotlib.pyplot as plt\n",
    "\n",
    "from coffea import hist\n",
    "from coffea.nanoaod import NanoEvents"
   ]
  },
  {
   "cell_type": "code",
   "execution_count": 2,
   "metadata": {},
   "outputs": [
    {
     "name": "stderr",
     "output_type": "stream",
     "text": [
      "/afs/cern.ch/work/m/milee/btag/coffea-hats/coffea-hats/lib64/python3.6/site-packages/coffea/util.py:98: Awkward0Warning: In coffea version 0.7 (target date: January 2021), this will be an error.\n",
      "(Set awkward1.deprecations_as_errors = True to get a stack trace now.)\n",
      "TypeError: <class 'coffea.nanoaod.nanoevents.NanoEvents'> relies exclusively on awkward 0.x and will be removed in upcoming versions of coffea!\n",
      "  warnings.warn(message, Awkward0Warning)\n",
      "/afs/cern.ch/work/m/milee/btag/coffea-hats/coffea-hats/lib64/python3.6/site-packages/coffea/util.py:98: Awkward0Warning: In coffea version 0.7 (target date: January 2021), this will be an error.\n",
      "(Set awkward1.deprecations_as_errors = True to get a stack trace now.)\n",
      "TypeError: <class 'coffea.nanoaod.nanoevents.NanoCollection'> relies exclusively on awkward 0.x and will be removed in upcoming versions of coffea!\n",
      "  warnings.warn(message, Awkward0Warning)\n"
     ]
    }
   ],
   "source": [
    "prefix = 'root://cmseos.fnal.gov//store/user/ncsmith/samplegame/'\n",
    "samples = [\n",
    "    NanoEvents.from_file(prefix + \"sample%d.root\" % i)\n",
    "    for i in range(6)\n",
    "]"
   ]
  },
  {
   "cell_type": "code",
   "execution_count": 3,
   "metadata": {},
   "outputs": [
    {
     "data": {
      "image/png": "[encoded data removed]",
      "text/plain": [
       "<Figure size 432x288 with 1 Axes>"
      ]
     },
     "metadata": {
      "needs_background": "light"
     },
     "output_type": "display_data"
    }
   ],
   "source": [
    "plt.hist(samples[0].Jet.pt.flatten(), bins=np.linspace(0, 500, 100));"
   ]
  },
  {
   "cell_type": "code",
   "execution_count": null,
   "metadata": {},
   "outputs": [],
   "source": []
  }
 ],
 "metadata": {
  "kernelspec": {
   "display_name": "coffea-hats",
   "language": "python",
   "name": "coffea-hats"
  },
  "language_info": {
   "codemirror_mode": {
    "name": "ipython",
    "version": 3
   },
   "file_extension": ".py",
   "mimetype": "text/x-python",
   "name": "python",
   "nbconvert_exporter": "python",
   "pygments_lexer": "ipython3",
   "version": "3.6.8"
  }
 },
 "nbformat": 4,
 "nbformat_minor": 2
}
