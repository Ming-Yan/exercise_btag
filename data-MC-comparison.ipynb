{
 "cells": [
  {
   "cell_type": "code",
   "execution_count": 1,
   "metadata": {},
   "outputs": [],
   "source": [
    "import os"
   ]
  },
  {
   "cell_type": "code",
   "execution_count": 2,
   "metadata": {
    "ExecuteTime": {
     "end_time": "2020-01-30T10:33:09.469036Z",
     "start_time": "2020-01-30T10:33:09.463818Z"
    }
   },
   "outputs": [],
   "source": [
    "import time\n",
    "import numpy as np\n",
    "import mplhep as hep\n",
    "import matplotlib.pyplot as plt\n",
    "import uproot\n",
    "from coffea import hist\n",
    "from coffea.hist import plot\n",
    "from coffea.analysis_objects import JaggedCandidateArray\n",
    "import coffea.processor as processor\n",
    "from matplotlib.offsetbox import AnchoredText"
   ]
  },
  {
   "cell_type": "code",
   "execution_count": 3,
   "metadata": {},
   "outputs": [
    {
     "data": {
      "text/plain": [
       "<ROOTDirectory b'JetTree_mc_FatJets_Subjets_BoostedCommissioning.root' at 0x2b6627daee10>"
      ]
     },
     "execution_count": 3,
     "metadata": {},
     "output_type": "execute_result"
    }
   ],
   "source": [
    "pat = 'root://xrootd-cms.infn.it///eos/cms/store/group/phys_btag/BoostedBTag/BTagNTuples/2016/9_4_X_v04/QCD_Pt-800to1000_MuEnrichedPt5_TuneCUETP8M1_13TeV_pythia8_9_4_X_v04/'\n",
    "fi = 'JetTree_mc_FatJets_Subjets_BoostedCommissioning_2.root'\n",
    "f = uproot.open(pat+fi)\n",
    "f"
   ]
  },
  {
   "cell_type": "code",
   "execution_count": 4,
   "metadata": {
    "ExecuteTime": {
     "start_time": "2020-01-30T10:33:09.913Z"
    }
   },
   "outputs": [
    {
     "data": {
      "text/plain": [
       "<ROOTDirectory b'RunMC2018.root' at 0x2b6627e4b828>"
      ]
     },
     "execution_count": 4,
     "metadata": {},
     "output_type": "execute_result"
    }
   ],
   "source": [
    "pat = 'root://xrootd-cms.infn.it///store/user/adodonov/RelValTTbar_13/pancakes-02_CMSSW_10_6_4_patch1-PU25ns_106X_upgrade2018_realistic_v9_HS_resub-v1/200131_140125/0000/RunMC2018_1.root'\n",
    "f = uproot.open(pat)\n",
    "f"
   ]
  },
  {
   "cell_type": "code",
   "execution_count": 5,
   "metadata": {},
   "outputs": [
    {
     "data": {
      "text/plain": [
       "'0.12.20'"
      ]
     },
     "execution_count": 5,
     "metadata": {},
     "output_type": "execute_result"
    }
   ],
   "source": [
    "import awkward\n",
    "awkward.__version__"
   ]
  },
  {
   "cell_type": "code",
   "execution_count": 9,
   "metadata": {},
   "outputs": [
    {
     "data": {
      "text/plain": [
       "<NanoEvents [<event 0> <event 1> <event 2> ... <event 99997> <event 99998> <event 99999>] at 0x2b5279b699b0>"
      ]
     },
     "execution_count": 9,
     "metadata": {},
     "output_type": "execute_result"
    }
   ],
   "source": [
    "from coffea.nanoaod import NanoEvents\n",
    "events =  NanoEvents.from_file('root://xrootd-cms.infn.it//store/user/lpcbacon/pancakes/02/2017/UL/TTToSemiLeptonic_TuneCP5_13TeV-powheg-pythia8/pancakes-02_RunIISummer19UL17MiniAOD-106X_v6-v2/200127_182859/0001/nano_mc_2017_1004.root')\n",
    "events"
   ]
  },
  {
   "cell_type": "code",
   "execution_count": 19,
   "metadata": {},
   "outputs": [
    {
     "name": "stdout",
     "output_type": "stream",
     "text": [
      "100000 100000\n",
      "[[] [<Electron 0>] [] ... [] [] []]\n",
      "[ True False  True ...  True  True  True]\n",
      "[[] [] [] ... [] [] []]\n",
      "[0 0 0 ... 0 0 0]\n"
     ]
    }
   ],
   "source": [
    "events['Electron'] = events.Electron[(events.Electron.pt > 20) & (abs(events.Electron.eta) < 2.4)]\n",
    "print(len(events.Electron), len(events.Electron.counts))\n",
    "print(events.Electron)\n",
    "print(events.Electron.counts == 0)\n",
    "#print(events.Electron.counts == 1)\n",
    "print(events[events.Electron.counts == 0].Electron)\n",
    "print(events[events.Electron.counts == 0].Electron.counts)"
   ]
  },
  {
   "cell_type": "code",
   "execution_count": 7,
   "metadata": {},
   "outputs": [
    {
     "data": {
      "text/plain": [
       "['E',\n",
       " 'Et',\n",
       " '__array_ufunc__',\n",
       " '__awkward_serialize__',\n",
       " '__class__',\n",
       " '__class__',\n",
       " '__delattr__',\n",
       " '__delattr__',\n",
       " '__dict__',\n",
       " '__dir__',\n",
       " '__dir__',\n",
       " '__doc__',\n",
       " '__doc__',\n",
       " '__eq__',\n",
       " '__eq__',\n",
       " '__format__',\n",
       " '__format__',\n",
       " '__ge__',\n",
       " '__ge__',\n",
       " '__get__',\n",
       " '__getattribute__',\n",
       " '__getattribute__',\n",
       " '__getitem__',\n",
       " '__gt__',\n",
       " '__gt__',\n",
       " '__hash__',\n",
       " '__hash__',\n",
       " '__init__',\n",
       " '__init__',\n",
       " '__init_subclass__',\n",
       " '__init_subclass__',\n",
       " '__le__',\n",
       " '__le__',\n",
       " '__lt__',\n",
       " '__lt__',\n",
       " '__module__',\n",
       " '__ne__',\n",
       " '__ne__',\n",
       " '__new__',\n",
       " '__new__',\n",
       " '__reduce__',\n",
       " '__reduce__',\n",
       " '__reduce_ex__',\n",
       " '__reduce_ex__',\n",
       " '__repr__',\n",
       " '__repr__',\n",
       " '__self__',\n",
       " '__self_class__',\n",
       " '__setattr__',\n",
       " '__setattr__',\n",
       " '__sizeof__',\n",
       " '__sizeof__',\n",
       " '__str__',\n",
       " '__str__',\n",
       " '__subclasshook__',\n",
       " '__subclasshook__',\n",
       " '__thisclass__',\n",
       " '__weakref__',\n",
       " '_args',\n",
       " '_array',\n",
       " '_arraymethods',\n",
       " '_cache',\n",
       " '_delitem',\n",
       " '_generator',\n",
       " '_initObjectArray',\n",
       " '_keymap',\n",
       " '_kwargs',\n",
       " '_nbytes',\n",
       " '_persistentkey',\n",
       " '_persistvirtual',\n",
       " '_rotate_axis',\n",
       " '_rotate_euler',\n",
       " '_setitem',\n",
       " '_to_cartesian',\n",
       " '_trymemo',\n",
       " '_type',\n",
       " '_wrapmethods',\n",
       " 'awkward',\n",
       " 'beta',\n",
       " 'boost',\n",
       " 'boostp3',\n",
       " 'chi2',\n",
       " 'cottheta',\n",
       " 'delta_phi',\n",
       " 'delta_r',\n",
       " 'delta_r2',\n",
       " 'dlen',\n",
       " 'dlenSig',\n",
       " 'dot',\n",
       " 'dxy',\n",
       " 'dxySig',\n",
       " 'energy',\n",
       " 'eta',\n",
       " 'eta',\n",
       " 'gamma',\n",
       " 'islightlike',\n",
       " 'isspacelike',\n",
       " 'istimelike',\n",
       " 'mag',\n",
       " 'mag2',\n",
       " 'mass',\n",
       " 'mass',\n",
       " 'mass2',\n",
       " 'maybemixin',\n",
       " 'mixin',\n",
       " 'mt',\n",
       " 'mt2',\n",
       " 'ndof',\n",
       " 'p',\n",
       " 'p2',\n",
       " 'p3',\n",
       " 'pAngle',\n",
       " 'perp',\n",
       " 'perp2',\n",
       " 'phi',\n",
       " 'phi',\n",
       " 'pt',\n",
       " 'pt',\n",
       " 'pt2',\n",
       " 'rapidity',\n",
       " 'rotate_axis',\n",
       " 'rotate_euler',\n",
       " 'rotatex',\n",
       " 'rotatey',\n",
       " 'rotatez',\n",
       " 'sum',\n",
       " 't',\n",
       " 'theta',\n",
       " 'unit',\n",
       " 'x',\n",
       " 'x',\n",
       " 'y',\n",
       " 'y',\n",
       " 'z',\n",
       " 'z']"
      ]
     },
     "execution_count": 7,
     "metadata": {},
     "output_type": "execute_result"
    }
   ],
   "source": [
    "dir(events.SV)"
   ]
  },
  {
   "cell_type": "code",
   "execution_count": 8,
   "metadata": {},
   "outputs": [
    {
     "name": "stdout",
     "output_type": "stream",
     "text": [
      "[<Electron 19> <Electron 47> <Electron 61> <Electron 68> <Electron 69> <Electron 77>]\n",
      "[1 1 1 1 1 1]\n",
      "[<Muon 7> <Muon 20> <Muon 30> <Muon 36> <Muon 37> <Muon 43>]\n",
      "[-1 -1 -1 -1 -1 -1]\n"
     ]
    }
   ],
   "source": [
    "req_mu = (events.Muon.pt.count() >= 1)\n",
    "req_ele = (events.Electron.pt.count() >= 1)\n",
    "req = req_ele & req_mu\n",
    "\n",
    "pairs = events.Muon[req_ele & req_mu].cross(events.Electron[req_ele & req_mu])\n",
    "pairs = pairs[pairs.i0.charge == -1 * pairs.i1.charge]\n",
    "pairs = pairs[pairs.counts == 1]\n",
    "el, mu = pairs.i0[:, 0], pairs.i1[:, 0]\n",
    "print(mu[:6])\n",
    "print(mu[:6].charge)\n",
    "print(el[:6])\n",
    "print(el[:6].charge)"
   ]
  },
  {
   "cell_type": "code",
   "execution_count": 9,
   "metadata": {},
   "outputs": [
    {
     "name": "stdout",
     "output_type": "stream",
     "text": [
      "[<Muon 1> <Muon 2> <Muon 7> <Muon 18> <Muon 20> <Muon 30>]\n",
      "[ 1 -1 -1  1 -1 -1]\n",
      "[<Electron 7> <Electron 9> <Electron 19> <Electron 38> <Electron 47> <Electron 61>]\n",
      "[-1  1  1 -1  1  1]\n"
     ]
    }
   ],
   "source": [
    "def propagate_up(subset, sel):\n",
    "    dummy = np.zeros_like(subset)\n",
    "    dummy[subset] = sel\n",
    "    return dummy\n",
    "    \n",
    "a = propagate_up(req, (events[req].Muon[:, 0].charge * events[req].Electron[:, 0].charge) == -1)\n",
    "print(events[a].Muon[:, 0][:6])\n",
    "print(events[a].Muon[:, 0].charge[:6])\n",
    "print(events[a].Electron[:, 0][:6])\n",
    "print(events[a].Electron[:, 0].charge[:6])"
   ]
  },
  {
   "cell_type": "code",
   "execution_count": 10,
   "metadata": {},
   "outputs": [
    {
     "name": "stdout",
     "output_type": "stream",
     "text": [
      "Event 7 [1] [-1 -1] [<Muon 1>] [<Electron 7> <Electron 8>]\n",
      "Event 8 [-1 -1] [ 1  1 -1 -1 -1] [<Muon 2> <Muon 3>] [<Electron 9> <Electron 10> <Electron 11> <Electron 12> <Electron 13>]\n",
      "Event 15 [-1  1] [1] [<Muon 7> <Muon 8>] [<Electron 19>]\n",
      "Event 28 [1] [-1  1 -1  1] [<Muon 18>] [<Electron 38> <Electron 39> <Electron 40> <Electron 41>]\n",
      "Event 33 [-1] [ 1 -1 -1] [<Muon 20>] [<Electron 47> <Electron 48> <Electron 49>]\n",
      "Event 45 [-1  1  1] [1] [<Muon 30> <Muon 31> <Muon 32>] [<Electron 61>]\n",
      "Event 53 [-1] [1] [<Muon 37>] [<Electron 69>]\n",
      "Event 55 [1] [-1 -1] [<Muon 42>] [<Electron 74> <Electron 75>]\n",
      "Event 57 [1] [-1] [<Muon 44>] [<Electron 78>]\n",
      "Event 58 [-1] [ 1 -1] [<Muon 45>] [<Electron 79> <Electron 80>]\n",
      "Event 66 [1] [-1 -1] [<Muon 55>] [<Electron 88> <Electron 89>]\n",
      "Event 68 [1] [-1  1] [<Muon 56>] [<Electron 91> <Electron 92>]\n",
      "Event 72 [1] [-1 -1] [<Muon 61>] [<Electron 93> <Electron 94>]\n",
      "Event 75 [ 1 -1] [-1] [<Muon 63> <Muon 64>] [<Electron 98>]\n",
      "Event 88 [1] [-1] [<Muon 70>] [<Electron 118>]\n",
      "Event 90 [-1] [1] [<Muon 72>] [<Electron 119>]\n",
      "Event 91 [-1  1] [ 1  1 -1] [<Muon 73> <Muon 74>] [<Electron 120> <Electron 121> <Electron 122>]\n",
      "Event 92 [1] [-1] [<Muon 75>] [<Electron 123>]\n",
      "Event 93 [-1  1] [1] [<Muon 76> <Muon 77>] [<Electron 124>]\n",
      "Event 96 [-1 -1] [1] [<Muon 81> <Muon 82>] [<Electron 126>]\n"
     ]
    }
   ],
   "source": [
    "for i in range(0,100):\n",
    "    #print(events[i].Muon, events[i].Electron, events[i].Muon.charge,  events[i].Electron.charge)\n",
    "    if (events[i].Muon.size >= 1) & (events[i].Electron.size >= 1):\n",
    "        if events[i].Muon[0].charge == -1 * events[i].Electron[0].charge:\n",
    "            print(\"Event\", i, events[i].Muon.charge, events[i].Electron.charge, events[i].Muon, events[i].Electron)\n",
    "        #print(\"Event\", i, events[i].Muon.charge, events[i].Electron.charge, events[i].Muon, events[i].Electron)"
   ]
  },
  {
   "cell_type": "code",
   "execution_count": 11,
   "metadata": {},
   "outputs": [
    {
     "name": "stdout",
     "output_type": "stream",
     "text": [
      "89252\n",
      "35438\n"
     ]
    },
    {
     "data": {
      "text/plain": [
       "['E',\n",
       " 'Et',\n",
       " '__array_ufunc__',\n",
       " '__awkward_serialize__',\n",
       " '__class__',\n",
       " '__class__',\n",
       " '__delattr__',\n",
       " '__delattr__',\n",
       " '__dict__',\n",
       " '__dir__',\n",
       " '__dir__',\n",
       " '__doc__',\n",
       " '__doc__',\n",
       " '__eq__',\n",
       " '__eq__',\n",
       " '__format__',\n",
       " '__format__',\n",
       " '__ge__',\n",
       " '__ge__',\n",
       " '__get__',\n",
       " '__getattribute__',\n",
       " '__getattribute__',\n",
       " '__getitem__',\n",
       " '__gt__',\n",
       " '__gt__',\n",
       " '__hash__',\n",
       " '__hash__',\n",
       " '__init__',\n",
       " '__init__',\n",
       " '__init_subclass__',\n",
       " '__init_subclass__',\n",
       " '__le__',\n",
       " '__le__',\n",
       " '__lt__',\n",
       " '__lt__',\n",
       " '__module__',\n",
       " '__ne__',\n",
       " '__ne__',\n",
       " '__new__',\n",
       " '__new__',\n",
       " '__reduce__',\n",
       " '__reduce__',\n",
       " '__reduce_ex__',\n",
       " '__reduce_ex__',\n",
       " '__repr__',\n",
       " '__repr__',\n",
       " '__self__',\n",
       " '__self_class__',\n",
       " '__setattr__',\n",
       " '__setattr__',\n",
       " '__sizeof__',\n",
       " '__sizeof__',\n",
       " '__str__',\n",
       " '__str__',\n",
       " '__subclasshook__',\n",
       " '__subclasshook__',\n",
       " '__thisclass__',\n",
       " '__weakref__',\n",
       " '_arraymethods',\n",
       " '_content',\n",
       " '_counts',\n",
       " '_finalize',\n",
       " '_initObjectArray',\n",
       " '_isvalid',\n",
       " '_keymap',\n",
       " '_offsets',\n",
       " '_parents',\n",
       " '_rotate_axis',\n",
       " '_rotate_euler',\n",
       " '_starts',\n",
       " '_stops',\n",
       " '_to_cartesian',\n",
       " '_trymemo',\n",
       " '_wrapmethods',\n",
       " 'awkward',\n",
       " 'beta',\n",
       " 'boost',\n",
       " 'boostp3',\n",
       " 'charge',\n",
       " 'cleanmask',\n",
       " 'cottheta',\n",
       " 'delta_phi',\n",
       " 'delta_r',\n",
       " 'delta_r2',\n",
       " 'dot',\n",
       " 'dxy',\n",
       " 'dxyErr',\n",
       " 'dz',\n",
       " 'dzErr',\n",
       " 'energy',\n",
       " 'eta',\n",
       " 'eta',\n",
       " 'fsrPhotonIdx',\n",
       " 'gamma',\n",
       " 'genPartFlav',\n",
       " 'highPtId',\n",
       " 'inTimeMuon',\n",
       " 'ip3d',\n",
       " 'isGlobal',\n",
       " 'isPFcand',\n",
       " 'isTracker',\n",
       " 'islightlike',\n",
       " 'isspacelike',\n",
       " 'istimelike',\n",
       " 'jetPtRelv2',\n",
       " 'jetRelIso',\n",
       " 'looseId',\n",
       " 'mag',\n",
       " 'mag2',\n",
       " 'mass',\n",
       " 'mass',\n",
       " 'mass2',\n",
       " 'matched_gen',\n",
       " 'matched_jet',\n",
       " 'maybemixin',\n",
       " 'mediumId',\n",
       " 'mediumPromptId',\n",
       " 'miniIsoId',\n",
       " 'miniPFRelIso_all',\n",
       " 'miniPFRelIso_chg',\n",
       " 'mixin',\n",
       " 'mt',\n",
       " 'mt2',\n",
       " 'multiIsoId',\n",
       " 'mvaId',\n",
       " 'mvaLowPt',\n",
       " 'mvaTTH',\n",
       " 'nStations',\n",
       " 'nTrackerLayers',\n",
       " 'p',\n",
       " 'p2',\n",
       " 'p3',\n",
       " 'pdgId',\n",
       " 'perp',\n",
       " 'perp2',\n",
       " 'pfIsoId',\n",
       " 'pfRelIso03_all',\n",
       " 'pfRelIso03_chg',\n",
       " 'pfRelIso04_all',\n",
       " 'phi',\n",
       " 'phi',\n",
       " 'pt',\n",
       " 'pt',\n",
       " 'pt2',\n",
       " 'ptErr',\n",
       " 'puppiIsoId',\n",
       " 'rapidity',\n",
       " 'rotate_axis',\n",
       " 'rotate_euler',\n",
       " 'rotatex',\n",
       " 'rotatey',\n",
       " 'rotatez',\n",
       " 'segmentComp',\n",
       " 'sip3d',\n",
       " 'softId',\n",
       " 'softMva',\n",
       " 'softMvaId',\n",
       " 'sum',\n",
       " 't',\n",
       " 'theta',\n",
       " 'tightCharge',\n",
       " 'tightId',\n",
       " 'tkIsoId',\n",
       " 'tkRelIso',\n",
       " 'triggerIdLoose',\n",
       " 'tunepRelPt',\n",
       " 'unit',\n",
       " 'x',\n",
       " 'y',\n",
       " 'z']"
      ]
     },
     "execution_count": 11,
     "metadata": {},
     "output_type": "execute_result"
    }
   ],
   "source": [
    "print(events.Muon.counts.sum())\n",
    "events.Muon = events.Muon[(events.Muon.pt > 20) & (events.Muon.eta < 2.4)]\n",
    "print(events.Muon.counts.sum())\n",
    "dir(events.Muon)"
   ]
  },
  {
   "cell_type": "code",
   "execution_count": 12,
   "metadata": {},
   "outputs": [
    {
     "name": "stdout",
     "output_type": "stream",
     "text": [
      "114533\n",
      "48655\n"
     ]
    },
    {
     "data": {
      "text/plain": [
       "['E',\n",
       " 'Et',\n",
       " 'FAIL',\n",
       " 'LOOSE',\n",
       " 'MEDIUM',\n",
       " 'TIGHT',\n",
       " 'VETO',\n",
       " '__array_ufunc__',\n",
       " '__awkward_serialize__',\n",
       " '__class__',\n",
       " '__class__',\n",
       " '__delattr__',\n",
       " '__delattr__',\n",
       " '__dict__',\n",
       " '__dir__',\n",
       " '__dir__',\n",
       " '__doc__',\n",
       " '__doc__',\n",
       " '__eq__',\n",
       " '__eq__',\n",
       " '__format__',\n",
       " '__format__',\n",
       " '__ge__',\n",
       " '__ge__',\n",
       " '__get__',\n",
       " '__getattribute__',\n",
       " '__getattribute__',\n",
       " '__getitem__',\n",
       " '__gt__',\n",
       " '__gt__',\n",
       " '__hash__',\n",
       " '__hash__',\n",
       " '__init__',\n",
       " '__init__',\n",
       " '__init_subclass__',\n",
       " '__init_subclass__',\n",
       " '__le__',\n",
       " '__le__',\n",
       " '__lt__',\n",
       " '__lt__',\n",
       " '__module__',\n",
       " '__ne__',\n",
       " '__ne__',\n",
       " '__new__',\n",
       " '__new__',\n",
       " '__reduce__',\n",
       " '__reduce__',\n",
       " '__reduce_ex__',\n",
       " '__reduce_ex__',\n",
       " '__repr__',\n",
       " '__repr__',\n",
       " '__self__',\n",
       " '__self_class__',\n",
       " '__setattr__',\n",
       " '__setattr__',\n",
       " '__sizeof__',\n",
       " '__sizeof__',\n",
       " '__str__',\n",
       " '__str__',\n",
       " '__subclasshook__',\n",
       " '__subclasshook__',\n",
       " '__thisclass__',\n",
       " '__weakref__',\n",
       " '_arraymethods',\n",
       " '_content',\n",
       " '_counts',\n",
       " '_finalize',\n",
       " '_initObjectArray',\n",
       " '_isvalid',\n",
       " '_keymap',\n",
       " '_offsets',\n",
       " '_parents',\n",
       " '_rotate_axis',\n",
       " '_rotate_euler',\n",
       " '_starts',\n",
       " '_stops',\n",
       " '_to_cartesian',\n",
       " '_trymemo',\n",
       " '_wrapmethods',\n",
       " 'awkward',\n",
       " 'beta',\n",
       " 'boost',\n",
       " 'boostp3',\n",
       " 'charge',\n",
       " 'cleanmask',\n",
       " 'convVeto',\n",
       " 'cottheta',\n",
       " 'cutBased',\n",
       " 'cutBased_Fall17_V1',\n",
       " 'cutBased_HEEP',\n",
       " 'deltaEtaSC',\n",
       " 'delta_phi',\n",
       " 'delta_r',\n",
       " 'delta_r2',\n",
       " 'dot',\n",
       " 'dr03EcalRecHitSumEt',\n",
       " 'dr03HcalDepth1TowerSumEt',\n",
       " 'dr03TkSumPt',\n",
       " 'dr03TkSumPtHEEP',\n",
       " 'dxy',\n",
       " 'dxyErr',\n",
       " 'dz',\n",
       " 'dzErr',\n",
       " 'eInvMinusPInv',\n",
       " 'energy',\n",
       " 'energyErr',\n",
       " 'eta',\n",
       " 'eta',\n",
       " 'gamma',\n",
       " 'genPartFlav',\n",
       " 'hoe',\n",
       " 'ip3d',\n",
       " 'isPFcand',\n",
       " 'islightlike',\n",
       " 'isspacelike',\n",
       " 'istimelike',\n",
       " 'jetPtRelv2',\n",
       " 'jetRelIso',\n",
       " 'lostHits',\n",
       " 'mag',\n",
       " 'mag2',\n",
       " 'mass',\n",
       " 'mass',\n",
       " 'mass2',\n",
       " 'matched_gen',\n",
       " 'matched_jet',\n",
       " 'matched_photon',\n",
       " 'maybemixin',\n",
       " 'miniPFRelIso_all',\n",
       " 'miniPFRelIso_chg',\n",
       " 'mixin',\n",
       " 'mt',\n",
       " 'mt2',\n",
       " 'mvaFall17V1Iso',\n",
       " 'mvaFall17V1Iso_WP80',\n",
       " 'mvaFall17V1Iso_WP90',\n",
       " 'mvaFall17V1Iso_WPL',\n",
       " 'mvaFall17V1noIso',\n",
       " 'mvaFall17V1noIso_WP80',\n",
       " 'mvaFall17V1noIso_WP90',\n",
       " 'mvaFall17V1noIso_WPL',\n",
       " 'mvaFall17V2Iso',\n",
       " 'mvaFall17V2Iso_WP80',\n",
       " 'mvaFall17V2Iso_WP90',\n",
       " 'mvaFall17V2Iso_WPL',\n",
       " 'mvaFall17V2noIso',\n",
       " 'mvaFall17V2noIso_WP80',\n",
       " 'mvaFall17V2noIso_WP90',\n",
       " 'mvaFall17V2noIso_WPL',\n",
       " 'mvaTTH',\n",
       " 'p',\n",
       " 'p2',\n",
       " 'p3',\n",
       " 'pdgId',\n",
       " 'perp',\n",
       " 'perp2',\n",
       " 'pfRelIso03_all',\n",
       " 'pfRelIso03_chg',\n",
       " 'phi',\n",
       " 'phi',\n",
       " 'pt',\n",
       " 'pt',\n",
       " 'pt2',\n",
       " 'r9',\n",
       " 'rapidity',\n",
       " 'rotate_axis',\n",
       " 'rotate_euler',\n",
       " 'rotatex',\n",
       " 'rotatey',\n",
       " 'rotatez',\n",
       " 'seedGain',\n",
       " 'sieie',\n",
       " 'sip3d',\n",
       " 'sum',\n",
       " 't',\n",
       " 'theta',\n",
       " 'tightCharge',\n",
       " 'unit',\n",
       " 'vidNestedWPBitmap',\n",
       " 'vidNestedWPBitmapHEEP',\n",
       " 'x',\n",
       " 'y',\n",
       " 'z']"
      ]
     },
     "execution_count": 12,
     "metadata": {},
     "output_type": "execute_result"
    }
   ],
   "source": [
    "print(events.Electron.counts.sum())\n",
    "events.Electron = events.Electron[(events.Electron.pt > 20) & (events.Electron.eta < 2.4)]\n",
    "print(events.Electron.counts.sum())\n",
    "dir(events.Electron)"
   ]
  },
  {
   "cell_type": "code",
   "execution_count": 41,
   "metadata": {},
   "outputs": [
    {
     "name": "stdout",
     "output_type": "stream",
     "text": [
      "100000 100000\n",
      "[[] [<Electron 0>] [] ... [] [] []]\n",
      "[ True False  True ...  True  True  True]\n",
      "[[] [] [] ... [<Electron 114531>] [<Electron 114532>] []]\n"
     ]
    }
   ],
   "source": [
    "print(len(events.Electron), len(events.Electron.counts))\n",
    "print(events.Electron)\n",
    "print(events.Electron.counts == 0)\n",
    "#print(events.Electron.counts == 1)\n",
    "print(events[events.Electron.counts == 0].Electron)"
   ]
  },
  {
   "cell_type": "code",
   "execution_count": 13,
   "metadata": {},
   "outputs": [],
   "source": [
    "xrd = 'root://xrootd-cms.infn.it//'\n",
    "pdict = {\n",
    "    '/store/user/adodonov/EGamma/pancakes-02_Run2018A-ForValUL2018-v2/200129_212244/0000/':[\n",
    "        'Run2018A_{}.root'.format(i) for i in range(1, 39)],\n",
    "    '/store/user/adodonov/EGamma/pancakes-02_Run2018B-ForValUL2018-v2/200129_210753/0000/':[\n",
    "        'Run2018B_{}.root'.format(i) for i in range(1, 151)],\n",
    "    '/store/user/adodonov/EGamma/pancakes-02_Run2018C-ForValUL2018-v2/200129_212537/0000/':[\n",
    "        'Run2018C_{}.root'.format(i) for i in range(1, 25)],\n",
    "    '/store/user/adodonov/EGamma/pancakes-02_Run2018D-ForValUL2018-v2/200129_212949/0000/':[\n",
    "        'Run2018D_{}.root'.format(i) for i in range(1, 89)],\n",
    "    \n",
    "}\n",
    "\n",
    "fdict = {}\n",
    "for k in pdict.keys():\n",
    "    fdict['Run2018'+k.split('Run2018')[-1][0]] = [xrd+k+f for f in pdict[k]]\n",
    "datadict = {'Data': []}\n",
    "for k in fdict.keys():\n",
    "    datadict['Data'] = datadict['Data'] + fdict[k]"
   ]
  },
  {
   "cell_type": "code",
   "execution_count": 14,
   "metadata": {
    "ExecuteTime": {
     "end_time": "2020-01-30T10:28:47.292483Z",
     "start_time": "2020-01-30T10:28:47.260665Z"
    }
   },
   "outputs": [],
   "source": [
    "class NanoEventsProcessor(processor.ProcessorABC):\n",
    "    def __init__(self, columns=[]):\n",
    "        self._columns = columns\n",
    "        \n",
    "        # Define axes\n",
    "        # Should read axes from NanoAOD config\n",
    "        dataset_axis = hist.Cat(\"dataset\", \"Primary dataset\")\n",
    "\n",
    "        # Events\n",
    "        nel_axis   = hist.Bin(\"nel\",   r\"N electrons\", [0,1,2,3,4,5,6,7,8,9,10])\n",
    "        nmu_axis   = hist.Bin(\"nmu\",   r\"N muons\",     [0,1,2,3,4,5,6,7,8,9,10])\n",
    "        njet_axis  = hist.Bin(\"njet\",  r\"N jets\",      [0,1,2,3,4,5,6,7,8,9,10])\n",
    "        nbjet_axis = hist.Bin(\"nbjet\", r\"N b-jets\",    [0,1,2,3,4,5,6,7,8,9,10])\n",
    "\n",
    "        # Electron\n",
    "        el_pt_axis   = hist.Bin(\"pt\",    r\"Electron $p_{T}$ [GeV]\", 100, 20, 400)\n",
    "        el_eta_axis  = hist.Bin(\"eta\",   r\"$\\eta$\", 60, -3, 3)\n",
    "        el_phi_axis  = hist.Bin(\"phi\",   r\"$\\phi$\", 60, -3, 3)\n",
    "        lelpt_axis   = hist.Bin(\"lelpt\", r\"Leading electron $p_{T}$ [GeV]\", 100, 20, 200)\n",
    "        \n",
    "        # Muons\n",
    "        mu_pt_axis   = hist.Bin(\"pt\",    r\"Muon $p_{T}$ [GeV]\", 100, 20, 400)\n",
    "        mu_eta_axis  = hist.Bin(\"eta\",   r\"$\\eta$\", 60, -3, 3)\n",
    "        mu_phi_axis  = hist.Bin(\"phi\",   r\"$\\phi$\", 60, -3, 3)\n",
    "        lmupt_axis   = hist.Bin(\"lmupt\", r\"Leading muon $p_{T}$ [GeV]\", 100, 20, 200)\n",
    "        \n",
    "        # Jet\n",
    "        jet_pt_axis   = hist.Bin(\"pt\",   r\"Jet $p_{T}$ [GeV]\", 100, 20, 400)\n",
    "        jet_eta_axis  = hist.Bin(\"eta\",  r\"$\\eta$\", 60, -3, 3)\n",
    "        jet_phi_axis  = hist.Bin(\"phi\",  r\"$\\phi$\", 60, -3, 3)\n",
    "        jet_mass_axis = hist.Bin(\"mass\", r\"Jet $m$ [GeV]\", 100, 0, 50)\n",
    "        ljpt_axis     = hist.Bin(\"ljpt\", r\"Leading jet $p_{T}$ [GeV]\", 100, 20, 400)\n",
    "                \n",
    "        # Define similar axes dynamically\n",
    "        disc_list = [\"btagCMVA\", \"btagCSVV2\", 'btagDeepB', 'btagDeepC', 'btagDeepFlavB', 'btagDeepFlavC',]\n",
    "        btag_axes = []\n",
    "        for d in disc_list:\n",
    "            btag_axes.append(hist.Bin(d, d, 50, 0, 1))        \n",
    "\n",
    "        # Define histograms from axes\n",
    "        _hist_jet_dict = {\n",
    "                'pt'  : hist.Hist(\"Counts\", dataset_axis, jet_pt_axis),\n",
    "                'eta' : hist.Hist(\"Counts\", dataset_axis, jet_eta_axis),\n",
    "                'phi' : hist.Hist(\"Counts\", dataset_axis, jet_phi_axis),\n",
    "                'mass': hist.Hist(\"Counts\", dataset_axis, jet_mass_axis),\n",
    "            }\n",
    "        \n",
    "        # Generate some histograms dynamically\n",
    "        for disc, axis in zip(disc_list, btag_axes):\n",
    "            _hist_jet_dict[disc] = hist.Hist(\"Counts\", dataset_axis, axis)\n",
    "        \n",
    "        _hist_event_dict = {\n",
    "                'njet'  : hist.Hist(\"Counts\", dataset_axis, njet_axis),\n",
    "                'nbjet' : hist.Hist(\"Counts\", dataset_axis, nbjet_axis),\n",
    "                'nel'   : hist.Hist(\"Counts\", dataset_axis, nel_axis),\n",
    "                'nmu'   : hist.Hist(\"Counts\", dataset_axis, nmu_axis),\n",
    "                'lelpt' : hist.Hist(\"Counts\", dataset_axis, lelpt_axis),\n",
    "                'lmupt' : hist.Hist(\"Counts\", dataset_axis, lmupt_axis),\n",
    "                'ljpt'  : hist.Hist(\"Counts\", dataset_axis, ljpt_axis),\n",
    "            }\n",
    "        \n",
    "        self.jet_hists = list(_hist_jet_dict.keys())\n",
    "        self.event_hists = list(_hist_event_dict.keys())\n",
    "    \n",
    "        _hist_dict = {**_hist_jet_dict, **_hist_event_dict}\n",
    "        _hist_dict['cutflow_ttbar'] = processor.defaultdict_accumulator(float)\n",
    "        _hist_dict['cutflow_Data'] = processor.defaultdict_accumulator(float)\n",
    "        self._accumulator = processor.dict_accumulator(_hist_dict)\n",
    "\n",
    "    @property\n",
    "    def columns(self):\n",
    "        return self._columns\n",
    "\n",
    "    @property\n",
    "    def accumulator(self):\n",
    "        return self._accumulator\n",
    "\n",
    "    def process(self, events):\n",
    "        output = self.accumulator.identity()\n",
    "\n",
    "        dataset = events.metadata['dataset']\n",
    "        \n",
    "        ##############\n",
    "        # Trigger level\n",
    "        triggers = [\n",
    "        #\"HLT_Mu12_TrkIsoVVL_Ele23_CaloIdL_TrackIdL_IsoVL_DZ\",\n",
    "        \"HLT_Mu23_TrkIsoVVL_Ele12_CaloIdL_TrackIdL_IsoVL_DZ\",\n",
    "        #\"HLT_Mu8_TrkIsoVVL_Ele23_CaloIdL_TrackIdL_IsoVL_DZ\",  \n",
    "        ]\n",
    "        \n",
    "        trig_arrs = [events.HLT[_trig.strip(\"HLT_\")] for _trig in triggers]\n",
    "        req_trig = np.logical_or.reduce(np.vstack(trig_arrs), axis=0)\n",
    "\n",
    "        ############\n",
    "        # Event level\n",
    "        \n",
    "        ## Muon cuts\n",
    "        \n",
    "        # muon twiki: https://twiki.cern.ch/twiki/bin/view/CMS/SWGuideMuonIdRun2\n",
    "        events.Muon = events.Muon[(events.Muon.pt > 30) & (abs(events.Muon.eta < 2.4))] # & (events.Muon.tightId > .5)\n",
    "        req_muon =(events.Muon.counts == 1)\n",
    "        \n",
    "        ## Electron cuts\n",
    "        \n",
    "        # electron twiki: https://twiki.cern.ch/twiki/bin/viewauth/CMS/CutBasedElectronIdentificationRun2\n",
    "        events.Electron = events.Electron[(events.Electron.pt > 30) & (abs(events.Electron.eta) < 2.4)]\n",
    "        req_ele = (events.Electron.counts == 1)\n",
    "        \n",
    "        events.Jet = events.Jet[(events.Jet.pt > 25) & (abs(events.Jet.eta) <= 2.5)]\n",
    "        req_jets = (events.Jet.counts >= 2)    \n",
    "        \n",
    "        req_opposite_charge = propagate_up(req_ele & req_muon,\n",
    "                                           (events[req_ele & req_muon].Muon[:, 0].charge * events[req_ele & req_muon].Electron[:, 0].charge) == -1)\n",
    "        \n",
    "        event_level = req_trig & req_muon & req_ele & req_opposite_charge & req_jets\n",
    "        \n",
    "        # Cutflow\n",
    "        if dataset == 'ttbar':\n",
    "            output['cutflow_ttbar']['all events'] += events.Jet.size\n",
    "            output['cutflow_ttbar']['trigger'] += events[req_trig].Jet.size\n",
    "            output['cutflow_ttbar']['1e1mu2j'] += events[req_trig & event_level].Jet.size\n",
    "        elif dataset == 'Data':\n",
    "            output['cutflow_Data']['all events'] += events.Jet.size\n",
    "            output['cutflow_Data']['trigger'] += events[req_trig].Jet.size\n",
    "            output['cutflow_Data']['1e1mu2j'] += events[req_trig & event_level].Jet.size\n",
    "        \n",
    "        # Selected\n",
    "        selev = events[event_level]    \n",
    "        \n",
    "        #########\n",
    "        \n",
    "        # Per electron\n",
    "        el_eta   = (abs(selev.Electron.eta) <= 2.4)\n",
    "        el_pt    = selev.Electron.pt > 30\n",
    "        el_level = el_eta & el_pt\n",
    "        \n",
    "        # Per muon\n",
    "        mu_eta   = (abs(selev.Muon.eta) <= 2.4)\n",
    "        mu_pt    = selev.Muon.pt > 30\n",
    "        mu_level = mu_eta & mu_pt\n",
    "        \n",
    "        # Per jet\n",
    "        jet_eta    = (abs(selev.Jet.eta) <= 2.4)\n",
    "        jet_pt     = selev.Jet.pt > 25\n",
    "        jet_pu     = selev.Jet.puId > 6\n",
    "        jet_level  = jet_pu & jet_eta & jet_pt\n",
    "        \n",
    "        # b-tag twiki : https://twiki.cern.ch/twiki/bin/viewauth/CMS/BtagRecommendation102X\n",
    "        bjet_disc  = selev.Jet.btagDeepB > 0.7264 # L=0.0494, M=0.2770, T=0.7264\n",
    "        bjet_level = jet_level & bjet_disc\n",
    "        \n",
    "        # Cutflow\n",
    "        if dataset == 'ttbar':\n",
    "            output['cutflow_ttbar']['PU cut'] += selev.Jet[jet_pu].size\n",
    "            output['cutflow_ttbar']['pT cut'] += selev.Jet[jet_pu & jet_pt].size\n",
    "            output['cutflow_ttbar']['eta cut'] += selev.Jet[jet_level].size\n",
    "        elif dataset == 'Data':\n",
    "            output['cutflow_Data']['PU cut'] += selev.Jet[jet_pu].size\n",
    "            output['cutflow_Data']['pT cut'] += selev.Jet[jet_pu & jet_pt].size\n",
    "            output['cutflow_Data']['eta cut'] += selev.Jet[jet_level].size\n",
    "\n",
    "        sel    = selev.Electron[el_level]\n",
    "        smu    = selev.Muon[mu_level]\n",
    "        sjets  = selev.Jet[jet_level]\n",
    "        sbjets = selev.Jet[bjet_level]\n",
    "        \n",
    "        # output['pt'].fill(dataset=dataset, pt=selev.Jet.pt.flatten())\n",
    "        # Fill histograms dynamically  \n",
    "        for histname, h in output.items():\n",
    "            if histname not in self.jet_hists: continue\n",
    "            # Get valid fields perhistogram to fill\n",
    "            fields = {k: sjets[k].flatten() for k in h.fields if k in dir(sjets)}\n",
    "            h.fill(dataset=dataset, **fields)\n",
    "#         for histname, h in output.items():\n",
    "#             if histname not in self.event_hists: continue\n",
    "#             # Get valid fields perhistogram to fill\n",
    "#             fields = {k: selev[k].flatten() for k in h.fields if k in dir(selev)}\n",
    "#             h.fill(dataset=dataset, **fields)\n",
    "\n",
    "        output['njet'].fill(dataset=dataset,  njet=sjets.counts)\n",
    "        output['nbjet'].fill(dataset=dataset, nbjet=sbjets.counts)\n",
    "        output['nel'].fill(dataset=dataset,   nel=sel.counts)\n",
    "        output['nmu'].fill(dataset=dataset,   nmu=smu.counts)\n",
    "\n",
    "        output['lelpt'].fill(dataset=dataset, lelpt=selev.Electron[:, 0].pt.flatten())\n",
    "        output['lmupt'].fill(dataset=dataset, lmupt=selev.Muon[:, 0].pt.flatten())\n",
    "        output['ljpt'].fill(dataset=dataset,  ljpt=selev.Jet[:, 0].pt.flatten())\n",
    "\n",
    "        return output\n",
    "\n",
    "    def postprocess(self, accumulator):\n",
    "        return accumulator"
   ]
  },
  {
   "cell_type": "code",
   "execution_count": 15,
   "metadata": {
    "ExecuteTime": {
     "end_time": "2020-01-28T12:57:10.153451Z",
     "start_time": "2020-01-28T12:57:05.311634Z"
    },
    "scrolled": false
   },
   "outputs": [
    {
     "data": {
      "application/vnd.jupyter.widget-view+json": {
       "model_id": "e0ec4dfb87314524a830292c6b25a96a",
       "version_major": 2,
       "version_minor": 0
      },
      "text/plain": [
       "HBox(children=(IntProgress(value=0, description='Preprocessing', max=26, style=ProgressStyle(description_width…"
      ]
     },
     "metadata": {},
     "output_type": "display_data"
    },
    {
     "name": "stdout",
     "output_type": "stream",
     "text": [
      "\n"
     ]
    },
    {
     "data": {
      "application/vnd.jupyter.widget-view+json": {
       "model_id": "8aefaa9f790842d2846edfa8846110f5",
       "version_major": 2,
       "version_minor": 0
      },
      "text/plain": [
       "HBox(children=(IntProgress(value=0, description='Processing', max=55, style=ProgressStyle(description_width='i…"
      ]
     },
     "metadata": {},
     "output_type": "display_data"
    },
    {
     "name": "stdout",
     "output_type": "stream",
     "text": [
      "\n"
     ]
    }
   ],
   "source": [
    "# from pyinstrument import Profiler\n",
    "# tstart = time.time()    \n",
    "\n",
    "# profiler = Profiler()\n",
    "# profiler.start()\n",
    "\n",
    "fileset = {\n",
    "    'ttbar': [\n",
    "        'root://xrootd-cms.infn.it//store/user/adodonov/RelValTTbar_13/pancakes-02_CMSSW_10_6_4_patch1-PU25ns_106X_upgrade2018_realistic_v9_HS_resub-v1/200131_140125/0000/RunMC2018_1.root'\n",
    "    ],\n",
    "    'Data': datadict['Data'][:25] # was 10: changed number of files to run on to 25\n",
    "}\n",
    "\n",
    "output = processor.run_uproot_job(fileset,\n",
    "                                  treename='Events',\n",
    "                                  processor_instance=NanoEventsProcessor(),\n",
    "                                  #executor=processor.iterative_executor,\n",
    "                                  executor=processor.futures_executor,\n",
    "                                  executor_args={'workers': 4, 'nano': True,\n",
    "                                                 'xrootdtimeout':30,\n",
    "                                                 'skipbadfiles':True,\n",
    "                                                },\n",
    "                                 )\n",
    "\n",
    "# profiler.stop()\n",
    "\n",
    "# print(profiler.output_text(unicode=True, color=True))\n",
    "\n",
    "# elapsed = time.time() - tstart\n",
    "#output"
   ]
  },
  {
   "cell_type": "code",
   "execution_count": 16,
   "metadata": {},
   "outputs": [
    {
     "data": {
      "image/png": "[encoded data removed]",
      "text/plain": [
       "<Figure size 432x288 with 1 Axes>"
      ]
     },
     "metadata": {
      "needs_background": "light"
     },
     "output_type": "display_data"
    }
   ],
   "source": [
    "xlabels = list(output['cutflow_ttbar'].keys())[1:]\n",
    "y = list(output['cutflow_ttbar'].values())[1:]\n",
    "y2 = list(output['cutflow_Data'].values())[1:]\n",
    "#y = y/np.sum(y)\n",
    "#y2 = y2/np.sum(y2)\n",
    "x = np.arange(len(y))\n",
    "plt.bar(x-0.2, y, width=0.4, color='b', align='center', label='ttbar')\n",
    "plt.bar(x+0.2, y2, width=0.4, color='r', align='center', label='Data')\n",
    "#plt.semilogy()\n",
    "plt.gca().set_xticks(x);\n",
    "plt.gca().set_xticklabels(xlabels);\n",
    "plt.legend()\n",
    "plt.show()"
   ]
  },
  {
   "cell_type": "code",
   "execution_count": 24,
   "metadata": {},
   "outputs": [
    {
     "data": {
      "text/plain": [
       "{('Data',): array([   0., 1620.,    0.,    0.,    0.,    0.,    0.,    0.,    0.,\n",
       "           0.]),\n",
       " ('ttbar',): array([4.000e+00, 4.326e+03, 0.000e+00, 0.000e+00, 0.000e+00, 0.000e+00,\n",
       "        0.000e+00, 0.000e+00, 0.000e+00, 0.000e+00])}"
      ]
     },
     "execution_count": 24,
     "metadata": {},
     "output_type": "execute_result"
    }
   ],
   "source": [
    "output['nmu'].values()"
   ]
  },
  {
   "cell_type": "code",
   "execution_count": 17,
   "metadata": {
    "ExecuteTime": {
     "end_time": "2020-01-28T12:57:43.184679Z",
     "start_time": "2020-01-28T12:57:41.376746Z"
    },
    "scrolled": false
   },
   "outputs": [
    {
     "name": "stdout",
     "output_type": "stream",
     "text": [
      "btagCMVA btagCSVV2\n"
     ]
    },
    {
     "name": "stderr",
     "output_type": "stream",
     "text": [
      "/beegfs/desy/user/anovak/miniconda3/envs/coffea/lib/python3.7/site-packages/mplhep/plot.py:343: UserWarning: Attempted to set non-positive bottom ylim on a log-scaled axis.\n",
      "Invalid limit will be ignored.\n",
      "  ax.set_ylim(0, None)\n",
      "findfont: Font family ['cursive'] not found. Falling back to DejaVu Sans.\n"
     ]
    },
    {
     "name": "stdout",
     "output_type": "stream",
     "text": [
      "btagDeepB btagDeepC\n",
      "btagDeepFlavB btagDeepFlavC\n",
      "njet nbjet\n",
      "nel nmu\n",
      "lelpt lmupt\n"
     ]
    },
    {
     "data": {
      "image/png": "[encoded data removed]",
      "text/plain": [
       "<Figure size 1152x504 with 2 Axes>"
      ]
     },
     "metadata": {
      "needs_background": "light"
     },
     "output_type": "display_data"
    },
    {
     "data": {
      "image/png": "[encoded data removed]",
      "text/plain": [
       "<Figure size 1152x504 with 2 Axes>"
      ]
     },
     "metadata": {
      "needs_background": "light"
     },
     "output_type": "display_data"
    },
    {
     "data": {
      "image/png": "[encoded data removed]",
      "text/plain": [
       "<Figure size 1152x504 with 2 Axes>"
      ]
     },
     "metadata": {
      "needs_background": "light"
     },
     "output_type": "display_data"
    },
    {
     "data": {
      "image/png": "[encoded data removed]",
      "text/plain": [
       "<Figure size 1152x504 with 2 Axes>"
      ]
     },
     "metadata": {
      "needs_background": "light"
     },
     "output_type": "display_data"
    },
    {
     "data": {
      "image/png": "[encoded data removed]",
      "text/plain": [
       "<Figure size 1152x504 with 2 Axes>"
      ]
     },
     "metadata": {
      "needs_background": "light"
     },
     "output_type": "display_data"
    },
    {
     "data": {
      "image/png": "[encoded data removed]",
      "text/plain": [
       "<Figure size 1152x504 with 2 Axes>"
      ]
     },
     "metadata": {
      "needs_background": "light"
     },
     "output_type": "display_data"
    },
    {
     "data": {
      "image/png": "[encoded data removed]",
      "text/plain": [
       "<Figure size 1152x504 with 2 Axes>"
      ]
     },
     "metadata": {
      "needs_background": "light"
     },
     "output_type": "display_data"
    }
   ],
   "source": [
    "plt.style.use([hep.style.ROOT, {'font.size': 16}])\n",
    "\n",
    "for i in range(0, int(round(len(output.keys())))-1, 2)[2:]:\n",
    "    fig, (ax1, ax2) = plt.subplots(1, 2, figsize=(16, 7))\n",
    "    h1name = list(output.keys())[i]\n",
    "    h2name = list(output.keys())[i+1]\n",
    "    if any([h1name.startswith('cutflow'), h2name.startswith('cutflow')]): break\n",
    "    print(h1name, h2name)\n",
    "    h1 = output[h1name]\n",
    "    h2 = output[h2name]\n",
    "    dense = True\n",
    "    \n",
    "    for ax, h in zip([ax1, ax2], [h1, h2]):\n",
    "        if hasattr(h, 'dim'):\n",
    "            plot.plot1d(h, ax=ax, legend_opts={'loc':1}, density=dense);\n",
    "        else:\n",
    "            continue    \n",
    "    for ax, hname in zip([ax1, ax2], [h1name, h2name]):\n",
    "        at = AnchoredText(r\"$1\\mu, 1e$\"+\"\\n\"+\n",
    "                           \"2+ jets\"+\"\\n\"+\n",
    "                          r\"$|\\eta| < 2.5$\",\n",
    "                           loc=2, frameon=False)\n",
    "        ax.add_artist(at)\n",
    "        if hname.startswith(\"btag\"):\n",
    "            ax.semilogy()\n",
    "        ax.set_ylim(0.001, None)\n",
    "    hep.mpl_magic(ax1)\n",
    "    hep.mpl_magic(ax2)\n",
    "    #break"
   ]
  },
  {
   "cell_type": "code",
   "execution_count": 18,
   "metadata": {},
   "outputs": [
    {
     "ename": "AttributeError",
     "evalue": "module 'mplhep' has no attribute '__version__'",
     "output_type": "error",
     "traceback": [
      "\u001b[0;31m---------------------------------------------------------------------------\u001b[0m",
      "\u001b[0;31mAttributeError\u001b[0m                            Traceback (most recent call last)",
      "\u001b[0;32m<ipython-input-18-a531cca3d9f2>\u001b[0m in \u001b[0;36m<module>\u001b[0;34m\u001b[0m\n\u001b[0;32m----> 1\u001b[0;31m \u001b[0mhep\u001b[0m\u001b[0;34m.\u001b[0m\u001b[0m__version__\u001b[0m\u001b[0;34m\u001b[0m\u001b[0;34m\u001b[0m\u001b[0m\n\u001b[0m",
      "\u001b[0;31mAttributeError\u001b[0m: module 'mplhep' has no attribute '__version__'"
     ]
    }
   ],
   "source": [
    "hep.__version__"
   ]
  },
  {
   "cell_type": "code",
   "execution_count": null,
   "metadata": {},
   "outputs": [],
   "source": []
  },
  {
   "cell_type": "code",
   "execution_count": null,
   "metadata": {},
   "outputs": [],
   "source": []
  },
  {
   "cell_type": "code",
   "execution_count": null,
   "metadata": {},
   "outputs": [],
   "source": []
  },
  {
   "cell_type": "code",
   "execution_count": null,
   "metadata": {},
   "outputs": [],
   "source": []
  }
 ],
 "metadata": {
  "kernelspec": {
   "display_name": "Python 3",
   "language": "python",
   "name": "python3"
  },
  "language_info": {
   "codemirror_mode": {
    "name": "ipython",
    "version": 3
   },
   "file_extension": ".py",
   "mimetype": "text/x-python",
   "name": "python",
   "nbconvert_exporter": "python",
   "pygments_lexer": "ipython3",
   "version": "3.7.6"
  }
 },
 "nbformat": 4,
 "nbformat_minor": 2
}
